{
 "cells": [
  {
   "cell_type": "code",
   "execution_count": 382,
   "id": "0447ace8-e3e6-45ec-9fe4-dd3529ab3478",
   "metadata": {},
   "outputs": [],
   "source": [
    "import pandas as pd\n",
    "import re"
   ]
  },
  {
   "cell_type": "code",
   "execution_count": 384,
   "id": "b93a61cc-34cf-4bc6-b070-001521718f53",
   "metadata": {},
   "outputs": [],
   "source": [
    "df_cleaned = pd.read_excel(\"Copy_of_Tickets_cleaned.xlsx\")\n",
    "df_history = pd.read_excel(\"Ticket history 3.xlsx\")"
   ]
  },
  {
   "cell_type": "markdown",
   "id": "413fb5ed-0ff7-46be-b84c-0963c848fae5",
   "metadata": {},
   "source": [
    "The first row and headings of the cleaned and history data files"
   ]
  },
  {
   "cell_type": "code",
   "execution_count": 386,
   "id": "02c1dad6-2eb3-4036-8d98-5d4909f53530",
   "metadata": {},
   "outputs": [
    {
     "data": {
      "text/html": [
       "<div>\n",
       "<style scoped>\n",
       "    .dataframe tbody tr th:only-of-type {\n",
       "        vertical-align: middle;\n",
       "    }\n",
       "\n",
       "    .dataframe tbody tr th {\n",
       "        vertical-align: top;\n",
       "    }\n",
       "\n",
       "    .dataframe thead th {\n",
       "        text-align: right;\n",
       "    }\n",
       "</style>\n",
       "<table border=\"1\" class=\"dataframe\">\n",
       "  <thead>\n",
       "    <tr style=\"text-align: right;\">\n",
       "      <th></th>\n",
       "      <th>TICKETID</th>\n",
       "      <th>ALTERNATEKEYSUFFIX</th>\n",
       "      <th>AREA</th>\n",
       "      <th>CATEGORY</th>\n",
       "      <th>ISSUE</th>\n",
       "      <th>RECEIVEDDATE</th>\n",
       "      <th>COMPLETEDDATE</th>\n",
       "      <th>SUBJECT</th>\n",
       "      <th>URGENCYCODE</th>\n",
       "      <th>PROBLEM</th>\n",
       "      <th>SOLUTION</th>\n",
       "      <th>RESULTIONSUMMARY</th>\n",
       "      <th>ACCOUNTID</th>\n",
       "      <th>ACCOUNT</th>\n",
       "    </tr>\n",
       "  </thead>\n",
       "  <tbody>\n",
       "    <tr>\n",
       "      <th>0</th>\n",
       "      <td>t6UJ9A00GHH8</td>\n",
       "      <td>NaN</td>\n",
       "      <td>NaN</td>\n",
       "      <td>S1000v4</td>\n",
       "      <td>NaN</td>\n",
       "      <td>2025-05-23 11:30:32</td>\n",
       "      <td>2025-05-23 16:05:51</td>\n",
       "      <td>URGENT HELP NEEDED: PI 7268 Batch posting fail...</td>\n",
       "      <td>3</td>\n",
       "      <td>Would you be able to help correct the whatever...</td>\n",
       "      <td>Batch had been imported incorrectly. Corrected...</td>\n",
       "      <td>NaN</td>\n",
       "      <td>A6UJ9A0023H4</td>\n",
       "      <td>Account_1</td>\n",
       "    </tr>\n",
       "  </tbody>\n",
       "</table>\n",
       "</div>"
      ],
      "text/plain": [
       "       TICKETID  ALTERNATEKEYSUFFIX  AREA CATEGORY ISSUE        RECEIVEDDATE  \\\n",
       "0  t6UJ9A00GHH8                 NaN   NaN  S1000v4   NaN 2025-05-23 11:30:32   \n",
       "\n",
       "        COMPLETEDDATE                                            SUBJECT  \\\n",
       "0 2025-05-23 16:05:51  URGENT HELP NEEDED: PI 7268 Batch posting fail...   \n",
       "\n",
       "   URGENCYCODE                                            PROBLEM  \\\n",
       "0            3  Would you be able to help correct the whatever...   \n",
       "\n",
       "                                            SOLUTION RESULTIONSUMMARY  \\\n",
       "0  Batch had been imported incorrectly. Corrected...              NaN   \n",
       "\n",
       "      ACCOUNTID    ACCOUNT  \n",
       "0  A6UJ9A0023H4  Account_1  "
      ]
     },
     "metadata": {},
     "output_type": "display_data"
    },
    {
     "data": {
      "text/html": [
       "<div>\n",
       "<style scoped>\n",
       "    .dataframe tbody tr th:only-of-type {\n",
       "        vertical-align: middle;\n",
       "    }\n",
       "\n",
       "    .dataframe tbody tr th {\n",
       "        vertical-align: top;\n",
       "    }\n",
       "\n",
       "    .dataframe thead th {\n",
       "        text-align: right;\n",
       "    }\n",
       "</style>\n",
       "<table border=\"1\" class=\"dataframe\">\n",
       "  <thead>\n",
       "    <tr style=\"text-align: right;\">\n",
       "      <th></th>\n",
       "      <th>TICKETID</th>\n",
       "      <th>TICKETACTIVITYID</th>\n",
       "      <th>USERID</th>\n",
       "      <th>SHORTDESC</th>\n",
       "      <th>CREATEDATE</th>\n",
       "      <th>ACTIVITYDESC</th>\n",
       "      <th>ACTIVITYTYPECODE</th>\n",
       "      <th>ACTIVITYTYPE</th>\n",
       "    </tr>\n",
       "  </thead>\n",
       "  <tbody>\n",
       "    <tr>\n",
       "      <th>0</th>\n",
       "      <td>t6UJ9A00EWHH</td>\n",
       "      <td>Q6UJ9A1U16LF</td>\n",
       "      <td>U6UJ9A0000CW</td>\n",
       "      <td>NaN</td>\n",
       "      <td>2024-01-05 10:10:11</td>\n",
       "      <td>NaN</td>\n",
       "      <td>k6UJ9A0004CG</td>\n",
       "      <td>Customer Update</td>\n",
       "    </tr>\n",
       "  </tbody>\n",
       "</table>\n",
       "</div>"
      ],
      "text/plain": [
       "       TICKETID TICKETACTIVITYID        USERID SHORTDESC          CREATEDATE  \\\n",
       "0  t6UJ9A00EWHH     Q6UJ9A1U16LF  U6UJ9A0000CW       NaN 2024-01-05 10:10:11   \n",
       "\n",
       "  ACTIVITYDESC ACTIVITYTYPECODE     ACTIVITYTYPE  \n",
       "0          NaN     k6UJ9A0004CG  Customer Update  "
      ]
     },
     "metadata": {},
     "output_type": "display_data"
    }
   ],
   "source": [
    "display(df_cleaned.iloc[[0]])\n",
    "display(df_history.iloc[[0]])"
   ]
  },
  {
   "cell_type": "code",
   "execution_count": 387,
   "id": "e1d8f218-15f5-4369-8f49-796c78a7c51d",
   "metadata": {},
   "outputs": [
    {
     "name": "stdout",
     "output_type": "stream",
     "text": [
      " Missing Values in Cleaned Tickets:\n"
     ]
    },
    {
     "data": {
      "text/plain": [
       "TICKETID                 0\n",
       "ALTERNATEKEYSUFFIX    5275\n",
       "AREA                  5275\n",
       "CATEGORY                 0\n",
       "ISSUE                 3705\n",
       "RECEIVEDDATE             0\n",
       "COMPLETEDDATE            0\n",
       "SUBJECT                744\n",
       "URGENCYCODE              0\n",
       "PROBLEM                 75\n",
       "SOLUTION                41\n",
       "RESULTIONSUMMARY      4203\n",
       "ACCOUNTID                0\n",
       "ACCOUNT                  0\n",
       "dtype: int64"
      ]
     },
     "metadata": {},
     "output_type": "display_data"
    },
    {
     "name": "stdout",
     "output_type": "stream",
     "text": [
      "\n",
      " Missing Values in Ticket History:\n"
     ]
    },
    {
     "data": {
      "text/plain": [
       "TICKETID                0\n",
       "TICKETACTIVITYID        0\n",
       "USERID                  0\n",
       "SHORTDESC           30612\n",
       "CREATEDATE              0\n",
       "ACTIVITYDESC         1700\n",
       "ACTIVITYTYPECODE        0\n",
       "ACTIVITYTYPE            0\n",
       "dtype: int64"
      ]
     },
     "metadata": {},
     "output_type": "display_data"
    }
   ],
   "source": [
    "print(\" Missing Values in Cleaned Tickets:\")\n",
    "display(df_cleaned.isnull().sum())\n",
    "\n",
    "\n",
    "print(\"\\n Missing Values in Ticket History:\")\n",
    "display(df_history.isnull().sum())"
   ]
  },
  {
   "cell_type": "markdown",
   "id": "b6fc4e76-5b68-4975-927e-d205de33986e",
   "metadata": {},
   "source": [
    "We now find any missing values"
   ]
  },
  {
   "cell_type": "markdown",
   "id": "4da69e48-b177-4c9d-ae40-90c6ac8464f3",
   "metadata": {},
   "source": [
    "We aren't doing any sort of time predictions so we rid off all these aswell as other redundant coloumns, we alos keep the createdate coloumn which will become apperent."
   ]
  },
  {
   "cell_type": "code",
   "execution_count": 395,
   "id": "19ae06fd-efa8-49bc-8931-35c28ff62783",
   "metadata": {},
   "outputs": [
    {
     "data": {
      "text/html": [
       "<div>\n",
       "<style scoped>\n",
       "    .dataframe tbody tr th:only-of-type {\n",
       "        vertical-align: middle;\n",
       "    }\n",
       "\n",
       "    .dataframe tbody tr th {\n",
       "        vertical-align: top;\n",
       "    }\n",
       "\n",
       "    .dataframe thead th {\n",
       "        text-align: right;\n",
       "    }\n",
       "</style>\n",
       "<table border=\"1\" class=\"dataframe\">\n",
       "  <thead>\n",
       "    <tr style=\"text-align: right;\">\n",
       "      <th></th>\n",
       "      <th>TICKETID</th>\n",
       "      <th>ISSUE</th>\n",
       "      <th>SUBJECT</th>\n",
       "      <th>URGENCYCODE</th>\n",
       "      <th>PROBLEM</th>\n",
       "      <th>SOLUTION</th>\n",
       "      <th>CATEGORY</th>\n",
       "    </tr>\n",
       "  </thead>\n",
       "  <tbody>\n",
       "    <tr>\n",
       "      <th>0</th>\n",
       "      <td>t6UJ9A00GHH8</td>\n",
       "      <td>NaN</td>\n",
       "      <td>URGENT HELP NEEDED: PI 7268 Batch posting fail...</td>\n",
       "      <td>3</td>\n",
       "      <td>Would you be able to help correct the whatever...</td>\n",
       "      <td>Batch had been imported incorrectly. Corrected...</td>\n",
       "      <td>S1000v4</td>\n",
       "    </tr>\n",
       "  </tbody>\n",
       "</table>\n",
       "</div>"
      ],
      "text/plain": [
       "       TICKETID ISSUE                                            SUBJECT  \\\n",
       "0  t6UJ9A00GHH8   NaN  URGENT HELP NEEDED: PI 7268 Batch posting fail...   \n",
       "\n",
       "   URGENCYCODE                                            PROBLEM  \\\n",
       "0            3  Would you be able to help correct the whatever...   \n",
       "\n",
       "                                            SOLUTION CATEGORY  \n",
       "0  Batch had been imported incorrectly. Corrected...  S1000v4  "
      ]
     },
     "metadata": {},
     "output_type": "display_data"
    },
    {
     "data": {
      "text/html": [
       "<div>\n",
       "<style scoped>\n",
       "    .dataframe tbody tr th:only-of-type {\n",
       "        vertical-align: middle;\n",
       "    }\n",
       "\n",
       "    .dataframe tbody tr th {\n",
       "        vertical-align: top;\n",
       "    }\n",
       "\n",
       "    .dataframe thead th {\n",
       "        text-align: right;\n",
       "    }\n",
       "</style>\n",
       "<table border=\"1\" class=\"dataframe\">\n",
       "  <thead>\n",
       "    <tr style=\"text-align: right;\">\n",
       "      <th></th>\n",
       "      <th>TICKETID</th>\n",
       "      <th>CREATEDATE</th>\n",
       "      <th>ACTIVITYDESC</th>\n",
       "    </tr>\n",
       "  </thead>\n",
       "  <tbody>\n",
       "    <tr>\n",
       "      <th>3</th>\n",
       "      <td>t6UJ9A00EW08</td>\n",
       "      <td>2024-01-02 08:26:28</td>\n",
       "      <td>[REDACTED_NAME] to: [REDACTED_EMAIL]\\n\\n[REDAC...</td>\n",
       "    </tr>\n",
       "  </tbody>\n",
       "</table>\n",
       "</div>"
      ],
      "text/plain": [
       "       TICKETID          CREATEDATE  \\\n",
       "3  t6UJ9A00EW08 2024-01-02 08:26:28   \n",
       "\n",
       "                                        ACTIVITYDESC  \n",
       "3  [REDACTED_NAME] to: [REDACTED_EMAIL]\\n\\n[REDAC...  "
      ]
     },
     "metadata": {},
     "output_type": "display_data"
    }
   ],
   "source": [
    "keep_cleaned = ['TICKETID', 'ISSUE', 'SUBJECT', 'URGENCYCODE', 'PROBLEM', 'SOLUTION','CATEGORY']\n",
    "keep_history = ['TICKETID', 'CREATEDATE', 'ACTIVITYDESC']\n",
    "\n",
    "df_cleaned = df_cleaned[keep_cleaned]\n",
    "df_history = df_history[keep_history]\n",
    "display(df_cleaned.iloc[[0]])\n",
    "display(df_history.iloc[[3]])"
   ]
  },
  {
   "cell_type": "markdown",
   "id": "516c9de3-47fb-48a2-9e76-2686d920d132",
   "metadata": {},
   "source": [
    "Now need to get cohesive time line of how each ticket was handled so group by ticket id then order descindigly "
   ]
  },
  {
   "cell_type": "code",
   "execution_count": 400,
   "id": "eb0efa5f-0c08-4a70-a2d0-ece0146e3967",
   "metadata": {},
   "outputs": [],
   "source": [
    "df_history['CREATEDATE'] = pd.to_datetime(df_history['CREATEDATE'], errors='coerce', dayfirst=True)\n",
    "df_history = df_history.sort_values(by=['TICKETID', 'CREATEDATE']).reset_index(drop=True)\n"
   ]
  },
  {
   "cell_type": "markdown",
   "id": "54a0c680-9d46-4e9c-a672-9a453f44f174",
   "metadata": {},
   "source": [
    "Now cleaning messy activity flow."
   ]
  },
  {
   "cell_type": "code",
   "execution_count": 403,
   "id": "e28c2c95-9c38-42a8-ab14-fb2aeb1438f3",
   "metadata": {},
   "outputs": [],
   "source": [
    "df_history['ACTIVITYDESC_CLEAN'] = df_history['ACTIVITYDESC'].apply(\n",
    "    lambda text: re.sub(r\"\\s+\", \" \", re.sub(\n",
    "        r\"DESCRIPTION\\s*:|TICKET RECEIVED:.*|\\[REDACTED[^\\]]*\\]|TO\\s*:.*\", \n",
    "        \"\", str(text), flags=re.IGNORECASE\n",
    "    )).strip() if isinstance(text, str) else \"\"\n",
    ")\n"
   ]
  },
  {
   "cell_type": "markdown",
   "id": "3edec758-96e3-45ff-b387-8cbeea7f1311",
   "metadata": {},
   "source": [
    "The Problem is always the first log for a ticketID, so we extract that (as we already have good in the cleaned file), then we group ticket activity into one row per ticket. "
   ]
  },
  {
   "cell_type": "code",
   "execution_count": 405,
   "id": "7cc4f505-7408-4cd9-9d4a-e4c686e3d69c",
   "metadata": {},
   "outputs": [
    {
     "name": "stderr",
     "output_type": "stream",
     "text": [
      "/var/folders/dz/f7c2klt93sd358r2cnhpdqdc0000gn/T/ipykernel_85405/3646573335.py:6: DeprecationWarning: DataFrameGroupBy.apply operated on the grouping columns. This behavior is deprecated, and in a future version of pandas the grouping columns will be excluded from the operation. Either pass `include_groups=False` to exclude the groupings or explicitly select the grouping columns after groupby to silence this warning.\n",
      "  .apply(lambda g: pd.Series({\n"
     ]
    },
    {
     "data": {
      "text/html": [
       "<div>\n",
       "<style scoped>\n",
       "    .dataframe tbody tr th:only-of-type {\n",
       "        vertical-align: middle;\n",
       "    }\n",
       "\n",
       "    .dataframe tbody tr th {\n",
       "        vertical-align: top;\n",
       "    }\n",
       "\n",
       "    .dataframe thead th {\n",
       "        text-align: right;\n",
       "    }\n",
       "</style>\n",
       "<table border=\"1\" class=\"dataframe\">\n",
       "  <thead>\n",
       "    <tr style=\"text-align: right;\">\n",
       "      <th></th>\n",
       "      <th>TICKETID</th>\n",
       "      <th>QUERY</th>\n",
       "      <th>RESOLUTION</th>\n",
       "    </tr>\n",
       "  </thead>\n",
       "  <tbody>\n",
       "    <tr>\n",
       "      <th>0</th>\n",
       "      <td>t6UJ9A00EVYR</td>\n",
       "      <td>E-mail : #: 9-694611 has changed its status to In</td>\n",
       "      <td>|| Hi HNY :-) - I have carried the below out ...</td>\n",
       "    </tr>\n",
       "    <tr>\n",
       "      <th>1</th>\n",
       "      <td>t6UJ9A00EVZ3</td>\n",
       "      <td>ticket</td>\n",
       "      <td>checks complete - No new issues found || check...</td>\n",
       "    </tr>\n",
       "    <tr>\n",
       "      <th>2</th>\n",
       "      <td>t6UJ9A00EVZA</td>\n",
       "      <td>ticket</td>\n",
       "      <td>No issues || No issues || 9-695124 raised for ...</td>\n",
       "    </tr>\n",
       "  </tbody>\n",
       "</table>\n",
       "</div>"
      ],
      "text/plain": [
       "       TICKETID                                              QUERY  \\\n",
       "0  t6UJ9A00EVYR  E-mail : #: 9-694611 has changed its status to In   \n",
       "1  t6UJ9A00EVZ3                                             ticket   \n",
       "2  t6UJ9A00EVZA                                             ticket   \n",
       "\n",
       "                                          RESOLUTION  \n",
       "0   || Hi HNY :-) - I have carried the below out ...  \n",
       "1  checks complete - No new issues found || check...  \n",
       "2  No issues || No issues || 9-695124 raised for ...  "
      ]
     },
     "execution_count": 405,
     "metadata": {},
     "output_type": "execute_result"
    }
   ],
   "source": [
    "df_history = df_history[['TICKETID', 'ACTIVITYDESC_CLEAN']]\n",
    "# Group into one row per ticket with QUERY and RESOLUTION\n",
    "df_history_cleaned = (\n",
    "    df_history\n",
    "    .groupby('TICKETID', group_keys=False)\n",
    "    .apply(lambda g: pd.Series({\n",
    "        'QUERY': g['ACTIVITYDESC_CLEAN'].iloc[0],  # first activity\n",
    "        'RESOLUTION': ' || '.join(g.iloc[1:]['ACTIVITYDESC_CLEAN']) if len(g) > 1 else \"\"  # remaining activities\n",
    "    }))\n",
    "    .reset_index()\n",
    ")\n",
    "\n",
    "# Preview the result\n",
    "df_history_cleaned.head(3)\n"
   ]
  },
  {
   "cell_type": "markdown",
   "id": "736bb9ad-5099-4f5d-9bc2-24886bf1ac09",
   "metadata": {},
   "source": [
    "Now saving both cleanish files as CSV's to have further work done. "
   ]
  },
  {
   "cell_type": "code",
   "execution_count": null,
   "id": "5091a1e8-03b0-4b05-b95d-eea35ef762b3",
   "metadata": {},
   "outputs": [],
   "source": [
    "df_history_cleaned.to_csv(\"Ticket_query_resolution.csv\", index=False, encoding=\"utf-8\")\n",
    "df_cleaned.to_csv(\"Ticket_file_clean.csv\", index=False, encoding=\"utf-8\")"
   ]
  }
 ],
 "metadata": {
  "kernelspec": {
   "display_name": "Python [conda env:base] *",
   "language": "python",
   "name": "conda-base-py"
  },
  "language_info": {
   "codemirror_mode": {
    "name": "ipython",
    "version": 3
   },
   "file_extension": ".py",
   "mimetype": "text/x-python",
   "name": "python",
   "nbconvert_exporter": "python",
   "pygments_lexer": "ipython3",
   "version": "3.11.11"
  }
 },
 "nbformat": 4,
 "nbformat_minor": 5
}
